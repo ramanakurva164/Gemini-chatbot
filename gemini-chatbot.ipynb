{
  "nbformat": 4,
  "nbformat_minor": 0,
  "metadata": {
    "colab": {
      "provenance": [],
      "authorship_tag": "ABX9TyNp4KabploYzL1Mf2nsZyQZ",
      "include_colab_link": true
    },
    "kernelspec": {
      "name": "python3",
      "display_name": "Python 3"
    },
    "language_info": {
      "name": "python"
    }
  },
  "cells": [
    {
      "cell_type": "markdown",
      "metadata": {
        "id": "view-in-github",
        "colab_type": "text"
      },
      "source": [
        "<a href=\"https://colab.research.google.com/github/ramanakurva164/Gemini-chatbot/blob/main/gemini-chatbot.ipynb\" target=\"_parent\"><img src=\"https://colab.research.google.com/assets/colab-badge.svg\" alt=\"Open In Colab\"/></a>"
      ]
    },
    {
      "cell_type": "code",
      "execution_count": null,
      "metadata": {
        "colab": {
          "base_uri": "https://localhost:8080/",
          "height": 213
        },
        "id": "ltBtRZD6Ms3W",
        "outputId": "b9996abf-2b80-4714-cd7c-7f68c0a0abb7"
      },
      "outputs": [
        {
          "output_type": "stream",
          "name": "stdout",
          "text": [
            "You: hi\n",
            "Gemini:  Hi there! How can I help you today?\n",
            "\n",
            "You: fine u?\n",
            "Gemini:  I'm doing well, thank you for asking! I'm always ready to assist you. What's on your mind?\n",
            "\n",
            "You: nithing\n",
            "Gemini:  Okay! If nothing's on your mind right now, that's perfectly alright. Feel free to reach out whenever you do have a question or need some help. I'll be here!\n",
            "\n"
          ]
        }
      ],
      "source": [
        "import google.generativeai as genai\n",
        "\n",
        "api_key=\"enter your gemini api key\"\n",
        "genai.configure(api_key=api_key)\n",
        "\n",
        "model=genai.GenerativeModel(\"gemini-2.0-flash\")\n",
        "chat=model.start_chat()\n",
        "while True:\n",
        "    user_input=input(\"You: \")\n",
        "    if user_input ==\"Exit\":\n",
        "        break\n",
        "    response=chat.send_message(user_input)\n",
        "    print(\"Gemini: \",response.text)\n",
        "\n",
        "\n"
      ]
    }
  ]
}
